{
  "nbformat": 4,
  "nbformat_minor": 0,
  "metadata": {
    "colab": {
      "provenance": [],
      "authorship_tag": "ABX9TyPBRg3nkf3OEXGZGusxHXSW",
      "include_colab_link": true
    },
    "kernelspec": {
      "name": "python3",
      "display_name": "Python 3"
    },
    "language_info": {
      "name": "python"
    }
  },
  "cells": [
    {
      "cell_type": "markdown",
      "metadata": {
        "id": "view-in-github",
        "colab_type": "text"
      },
      "source": [
        "<a href=\"https://colab.research.google.com/github/Mburu-Elvis/Week2_Data_Science/blob/main/Python.ipynb\" target=\"_parent\"><img src=\"https://colab.research.google.com/assets/colab-badge.svg\" alt=\"Open In Colab\"/></a>"
      ]
    },
    {
      "cell_type": "markdown",
      "source": [
        "**Week 2: Hands-On practice questions and tasks**\n",
        "\n",
        "# **Python**\n",
        "\n",
        "Given an array of integers, find the sum of its elements."
      ],
      "metadata": {
        "id": "0K2eiQAG9pkY"
      }
    },
    {
      "cell_type": "code",
      "execution_count": 9,
      "metadata": {
        "colab": {
          "base_uri": "https://localhost:8080/"
        },
        "id": "IOd-LzAN9V7f",
        "outputId": "b3c18425-9afa-40b8-e19b-6efce1025c44"
      },
      "outputs": [
        {
          "output_type": "execute_result",
          "data": {
            "text/plain": [
              "7"
            ]
          },
          "metadata": {},
          "execution_count": 9
        }
      ],
      "source": [
        "arr = [1, 2, 4]\n",
        "\n",
        "def sum_array(array):\n",
        "  sum = 0\n",
        "  for a in array:\n",
        "    sum += a\n",
        "  return sum\n",
        "\n",
        "sum_array(arr)"
      ]
    },
    {
      "cell_type": "code",
      "source": [],
      "metadata": {
        "id": "CewvnpbH-koj"
      },
      "execution_count": null,
      "outputs": []
    }
  ]
}